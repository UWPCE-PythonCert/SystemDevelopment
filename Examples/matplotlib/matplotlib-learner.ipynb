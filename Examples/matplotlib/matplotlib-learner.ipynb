{
 "cells": [
  {
   "cell_type": "markdown",
   "metadata": {},
   "source": [
    "# Plotting with matplotlib\n",
    "\n",
    "__Software Carpentry Bootcamp  \n",
    "eResearch NZ 2013__  \n",
    "\n",
    "Prepared by: Ariel Rokem\n",
    "Thanks to: Justin Kitzes, Paul Ivanov\n",
    "(updated for py3 for UWPCE: Christopher Barker: 2016)"
   ]
  },
  {
   "cell_type": "markdown",
   "metadata": {},
   "source": [
    "## 1. Getting Started"
   ]
  },
  {
   "cell_type": "markdown",
   "metadata": {},
   "source": [
    "### 1.1 What is matplotlib?\n",
    "\n",
    "Matplotlib is the most popular and mature library for plotting data using Python. It has all of the functionality you would expect, including the ability to control the formatting of plots and figures at a very fine level.\n",
    "\n",
    "The official matplotlib documentation is at http://matplotlib.org/  \n",
    "The matplotlib gallery is at http://matplotlib.org/gallery.html"
   ]
  },
  {
   "cell_type": "markdown",
   "metadata": {},
   "source": [
    "#### 1.1.1 Architecture\n",
    "Matplotlib is designed be be used in a wide variety of ways: for interactive plotting, generating images for publication or web sites, embedding in GUI programs, etc. It can generate PNG images, PDF, SVG, and native images for a number of GUI toolkits.\n",
    "\n",
    "To support this, it has a varierty of \"back ends\" -- each for a different purpose, or for use with a different GUI toolkit. The system is designed to abstract the all the plotting commands and interaction, so that the code you wirte to gernerate plot is almost identical regradless of how you use it.\n",
    "\n",
    "One use-case is embedding it for inline display in an iPython noteboo, such as this one. That is what this tutorial uses, but the plotting commands and principles are the same regardless of your use case.\n",
    "\n",
    "#### 1.1.2 APIs\n",
    "\n",
    "Matplotlib has essentially two APIs: the core object oreiented API that mpl itself is written in, and a MATLAB-like \"state machine\" API (pylab). While the pylab API makes it a bit easier to quickly plot things up at the command line, it creates (or encourages, anyway) a very hard to maintain and re-use codeing style. And in most cases, the object oriented API requires only a few extra keystrokes, but keeps things much cleaner if (when) you want to move your plotting ocde to be a part of a larger application.\n",
    "\n",
    "This tutoroal woill use the OO API as much as possible, but many examples use the other API, so it can be helful to understand the realtionship between them."
   ]
  },
  {
   "cell_type": "markdown",
   "metadata": {},
   "source": [
    "### 1.2 Importing matplotlib\n",
    "\n",
    "Matplotlib is often used through 'pyplot', which provides a high-level interface for plotting."
   ]
  },
  {
   "cell_type": "code",
   "execution_count": null,
   "metadata": {
    "collapsed": false
   },
   "outputs": [],
   "source": [
    "# The inline flag means that images will be shown here in the notebooks, rather\n",
    "# than in pop-up windows.\n",
    "\n",
    "%matplotlib inline\n",
    "\n",
    "# If you are using 'regular' Python, however, you'll want the following. You'll\n",
    "# need to also separately import numpy and any other packages that you might need.\n",
    "\n",
    "# We, of course, need numpy:\n",
    "import numpy as np\n",
    "\n",
    "# The more-or-less accepted way to import MPL\n",
    "import matplotlib.pyplot as plt"
   ]
  },
  {
   "cell_type": "markdown",
   "metadata": {},
   "source": [
    "## 2. Creating Figures\n",
    "\n",
    "There are two major challenges with creating figures. First is understanding the\n",
    "syntax to actually make the basic plot appear. Second is formatting the basic plot to look\n",
    "exactly how you would like it to look. In general, the formatting will probably take you\n",
    "longer...\n",
    "\n",
    "Within pyplot (currently imported as 'plt'), there are two basic ways to go about making\n",
    "plots - using the Matlab-like clone, and using the object-oriented approach. The latter\n",
    "provides better control over plot features, while only requiring slightly more typing. It's\n",
    "easy to quickly outgrow the Matlab clone, so we'll go right to the object-oriented syntax."
   ]
  },
  {
   "cell_type": "markdown",
   "metadata": {},
   "source": [
    "### 2.1 A first plot\n",
    "\n",
    "In simple matplotlib plotting, there are two concepts to distinguish:\n",
    "\n",
    "- __Figure__ - the entire figure, like what you might see in a journal, including all\n",
    "subplots, axes, lines, labels, etc. The whole enchilada. IT is more or less like a piece of paper.\n",
    "  \n",
    "- __Subplot/Axes__ - one of the sub-sections of the figure, labeled (a), (b), etc. in articles. Each subplot will contain one Axes object, which is the container where all of the useful stuff, such as actual lines, legends, labels, etc., are actually housed.\n",
    "\n",
    "Also -- in Matplotlib, the axes object does most of teh work -- it is the interface to all plotting.\n",
    "\n",
    "For example, here's how to make one figure with two subplots, the second of which contains two lines."
   ]
  },
  {
   "cell_type": "code",
   "execution_count": null,
   "metadata": {
    "collapsed": false,
    "scrolled": true
   },
   "outputs": [],
   "source": [
    "# Make some data to plot\n",
    "x = np.linspace(0, 2*np.pi)\n",
    "y1 = np.sin(x)\n",
    "y2 = np.cos(x)\n",
    "\n",
    "# First, create an empty figure with 2 subplots\n",
    "# - The arguments (1, 2) indicate 1 row and 2 cols\n",
    "# - The function plt.subplots returns an object for the figure and for\n",
    "#   each axes\n",
    "# - There are multiple ways to accomplish this same goal, but this is\n",
    "#   probably the simplest and most extensible -- notice that each\n",
    "#   subplot is associated with one of the axes objects.\n",
    "\n",
    "fig, (ax1, ax2) = plt.subplots(1, 2)\n",
    "\n",
    "# The axes objects have a huge nuber of methods -- the core plotting routines,\n",
    "# and the methods to manipluate the plots.\n",
    "\n",
    "# Next, put one line on the first axis and both lines on the second axis\n",
    "line = ax1.plot(x, y1, '--r')\n",
    "print(line)\n",
    "ax1.set_xlim(0,4)\n",
    "ax1.set_ylim(-1.2, 1.2)\n",
    "ax1.set_xlabel('a label in the x axis')\n",
    "ax1.set_ylabel('$\\gamma$')\n",
    "\n",
    "ax2.plot(x, y1, label='sin')  # The labels are what appear in the legend\n",
    "ax2.plot(x, y2, label='cos')\n",
    "# - On the second axes, add a legend to distinguish the two lines\n",
    "ax2.legend()\n",
    "\n",
    "# Finally, save the figure as a png file\n",
    "# if you want to save it for use elsewhere.\n",
    "# note that in inline mode, the notebook displays the plot.\n",
    "fig.savefig('myfig.png') "
   ]
  },
  {
   "cell_type": "markdown",
   "metadata": {},
   "source": [
    "### Exercise 1 - Simple formatting\n",
    "\n",
    "There are lots of formatting options to play with. Modify the code above to make some changes to the\n",
    "formatting of these plots.\n",
    "\n",
    "First, make some changes to the axes. HINT: These adjustments are methods to the ax1 and ax2 objects,\n",
    "and (conveniently) they all start with the text 'set_'. Try typing 'ax1.set_' and hitting tab to\n",
    "see some options.\n",
    "\n",
    "* Change the x axis on ax1 to run from 0 to 4. (HINT: set_xlim)\n",
    "* Add labels to the x axis on both subplots (HINT: set_xlabel, set_ylabel)\n",
    "\n",
    "Second, make some changes to the lines that you plotted using ax1.plot(...). These changes can be made\n",
    "by looking at the various arguments that you can give to the plot method. You can do this easily by\n",
    "typing ax1.plot? in the cell below and running it - this will give you pop-up help for the plot method.\n",
    "\n",
    "* Make the sine line on ax1 red and dashed.\n",
    "* Put a circular black marker on top of the cos line on ax2. Make it really big.\n",
    "\n",
    "_Bonus_: Eliminate the box around the legend on the second subplot."
   ]
  },
  {
   "cell_type": "code",
   "execution_count": null,
   "metadata": {
    "collapsed": false
   },
   "outputs": [],
   "source": [
    "ax1.plot?"
   ]
  },
  {
   "cell_type": "markdown",
   "metadata": {},
   "source": [
    "### 2.2 Other types of plots\n",
    "\n",
    "In the example above, we used the plot method to make line plots. There \n",
    "are also methods to make scatter plots, barplots, histograms, loglog\n",
    "plots, semilog plots, etc."
   ]
  },
  {
   "cell_type": "code",
   "execution_count": null,
   "metadata": {
    "collapsed": false
   },
   "outputs": [],
   "source": [
    "# to see the methods, try typing:\n",
    "ax1.\n",
    "# and then a <tab> after the dot."
   ]
  },
  {
   "cell_type": "code",
   "execution_count": null,
   "metadata": {
    "collapsed": false
   },
   "outputs": [],
   "source": [
    "# Make some data to plot\n",
    "x = np.arange(0, 100)\n",
    "y = np.random.rand(100)  # 100 random numbers\n",
    "\n",
    "# Make a figure with 6 subplots and axes\n",
    "fig, ((ax1, ax2), (ax3, ax4), (ax5, ax6)) = plt.subplots(3, 2)\n",
    "\n",
    "# Add data to each axis. Optional arguments to each method will customize each plot.\n",
    "ax1.plot(x, y)\n",
    "ax2.hist(y)\n",
    "ax3.scatter(x, y)\n",
    "ax4.boxplot(y)\n",
    "ax5.loglog(x, y)\n",
    "ax6.semilogx(x, y)"
   ]
  },
  {
   "cell_type": "markdown",
   "metadata": {},
   "source": [
    "### 2.3 Plotting images\n",
    "\n",
    "Matplotlib also makes it easy to plot images. For this, you can use the plot method imshow\n",
    "(syntax borrowed from Matlab)."
   ]
  },
  {
   "cell_type": "code",
   "execution_count": null,
   "metadata": {
    "collapsed": false
   },
   "outputs": [],
   "source": [
    "# Read an image file for first subplot, generate random array for second\n",
    "img1 = plt.imread('lena.png')\n",
    "img2 = np.random.rand(128, 128)\n",
    "\n",
    "# Make figure\n",
    "fig, (ax1, ax2) = plt.subplots(1, 2)\n",
    "ax1.imshow(img1)\n",
    "ax2.imshow(img2)\n",
    "\n",
    "ax1.set_axis_off()  # Hide \"spines\" on first axis"
   ]
  },
  {
   "cell_type": "markdown",
   "metadata": {},
   "source": [
    "## 3. The matplotlib gallery\n",
    "\n",
    "It can be very intimidating to try to craft exactly the figure that you want, especially if\n",
    "you are used to being able to adjust things visually using a program like Excel.\n",
    "\n",
    "If you get stuck and don't know where to start, or just want to learn more about what\n",
    "matplotlib can do, a great option is to have a look at the matplotlib gallery, which can be\n",
    "found at http://matplotlib.org/gallery.html. A good way to get started is to find a figure\n",
    "here that sort of looks like what you want, copy the code, and modify it for your own needs."
   ]
  },
  {
   "cell_type": "markdown",
   "metadata": {},
   "source": [
    "### Exercise 2 - Exploring the matplotlib gallery\n",
    "\n",
    "Have a look at the matplotlib gallery, find a cool looking figure, copy the code\n",
    "into the box below, and modify it. Note that some of the examples might require packages that\n",
    "are not installed on your machine (in particular those that make maps) -\n",
    "if this is the case, pick another example for the purposes of this exercise.\n",
    "\n",
    "In IPython, you can use the \"load magic\". Type %loadpy and then the URL of the py file containing the\n",
    "code, and it will automatically copy it into a cell below. Run the cell with the code to see the\n",
    "figure."
   ]
  },
  {
   "cell_type": "code",
   "execution_count": null,
   "metadata": {
    "collapsed": false
   },
   "outputs": [],
   "source": [
    "# %load http://matplotlib.org/mpl_examples/pylab_examples/contour_demo.py\n",
    "#!/usr/bin/env python\n",
    "\"\"\"\n",
    "Illustrate simple contour plotting, contours on an image with\n",
    "a colorbar for the contours, and labelled contours.\n",
    "\n",
    "See also contour_image.py.\n",
    "\"\"\"\n",
    "import matplotlib\n",
    "import numpy as np\n",
    "import matplotlib.cm as cm\n",
    "import matplotlib.mlab as mlab\n",
    "import matplotlib.pyplot as plt\n",
    "\n",
    "matplotlib.rcParams['xtick.direction'] = 'out'\n",
    "matplotlib.rcParams['ytick.direction'] = 'out'\n",
    "\n",
    "delta = 0.025\n",
    "x = np.arange(-3.0, 3.0, delta)\n",
    "y = np.arange(-2.0, 2.0, delta)\n",
    "X, Y = np.meshgrid(x, y)\n",
    "Z1 = mlab.bivariate_normal(X, Y, 1.0, 1.0, 0.0, 0.0)\n",
    "Z2 = mlab.bivariate_normal(X, Y, 1.5, 0.5, 1, 1)\n",
    "# difference of Gaussians\n",
    "Z = 10.0 * (Z2 - Z1)\n",
    "\n",
    "\n",
    "\n",
    "# Create a simple contour plot with labels using default colors.  The\n",
    "# inline argument to clabel will control whether the labels are draw\n",
    "# over the line segments of the contour, removing the lines beneath\n",
    "# the label\n",
    "plt.figure()\n",
    "CS = plt.contour(X, Y, Z)\n",
    "plt.clabel(CS, inline=1, fontsize=10)\n",
    "plt.title('Simplest default with labels')\n",
    "\n",
    "\n",
    "# contour labels can be placed manually by providing list of positions\n",
    "# (in data coordinate). See ginput_manual_clabel.py for interactive\n",
    "# placement.\n",
    "plt.figure()\n",
    "CS = plt.contour(X, Y, Z)\n",
    "manual_locations = [(-1, -1.4), (-0.62, -0.7), (-2, 0.5), (1.7, 1.2), (2.0, 1.4), (2.4, 1.7)]\n",
    "plt.clabel(CS, inline=1, fontsize=10, manual=manual_locations)\n",
    "plt.title('labels at selected locations')\n",
    "\n",
    "\n",
    "# You can force all the contours to be the same color.\n",
    "plt.figure()\n",
    "CS = plt.contour(X, Y, Z, 6,\n",
    "                 colors='k', # negative contours will be dashed by default\n",
    "                 )\n",
    "plt.clabel(CS, fontsize=9, inline=1)\n",
    "plt.title('Single color - negative contours dashed')\n",
    "\n",
    "# You can set negative contours to be solid instead of dashed:\n",
    "matplotlib.rcParams['contour.negative_linestyle'] = 'solid'\n",
    "plt.figure()\n",
    "CS = plt.contour(X, Y, Z, 6,\n",
    "                 colors='k', # negative contours will be dashed by default\n",
    "                 )\n",
    "plt.clabel(CS, fontsize=9, inline=1)\n",
    "plt.title('Single color - negative contours solid')\n",
    "\n",
    "\n",
    "# And you can manually specify the colors of the contour\n",
    "plt.figure()\n",
    "CS = plt.contour(X, Y, Z, 6,\n",
    "                 linewidths=np.arange(.5, 4, .5),\n",
    "                 colors=('r', 'green', 'blue', (1,1,0), '#afeeee', '0.5')\n",
    "                 )\n",
    "plt.clabel(CS, fontsize=9, inline=1)\n",
    "plt.title('Crazy lines')\n",
    "\n",
    "\n",
    "# Or you can use a colormap to specify the colors; the default\n",
    "# colormap will be used for the contour lines\n",
    "plt.figure()\n",
    "im = plt.imshow(Z, interpolation='bilinear', origin='lower',\n",
    "                cmap=cm.gray, extent=(-3,3,-2,2))\n",
    "levels = np.arange(-1.2, 1.6, 0.2)\n",
    "CS = plt.contour(Z, levels,\n",
    "                 origin='lower',\n",
    "                 linewidths=2,\n",
    "                 extent=(-3,3,-2,2))\n",
    "\n",
    "#Thicken the zero contour.\n",
    "zc = CS.collections[6]\n",
    "plt.setp(zc, linewidth=4)\n",
    "\n",
    "plt.clabel(CS, levels[1::2],  # label every second level\n",
    "           inline=1,\n",
    "           fmt='%1.1f',\n",
    "           fontsize=14)\n",
    "\n",
    "# make a colorbar for the contour lines\n",
    "CB = plt.colorbar(CS, shrink=0.8, extend='both')\n",
    "\n",
    "plt.title('Lines with colorbar')\n",
    "#plt.hot()  # Now change the colormap for the contour lines and colorbar\n",
    "plt.flag()\n",
    "\n",
    "# We can still add a colorbar for the image, too.\n",
    "CBI = plt.colorbar(im, orientation='horizontal', shrink=0.8)\n",
    "\n",
    "# This makes the original colorbar look a bit out of place,\n",
    "# so let's improve its position.\n",
    "\n",
    "l,b,w,h = plt.gca().get_position().bounds\n",
    "ll,bb,ww,hh = CB.ax.get_position().bounds\n",
    "CB.ax.set_position([ll, b+0.1*h, ww, h*0.8])\n",
    "\n",
    "\n",
    "plt.show()\n"
   ]
  },
  {
   "cell_type": "code",
   "execution_count": null,
   "metadata": {
    "collapsed": false
   },
   "outputs": [],
   "source": [
    "#!/usr/bin/env python\n",
    "\"\"\"\n",
    "Illustrate simple contour plotting, contours on an image with\n",
    "a colorbar for the contours, and labelled contours.\n",
    "\n",
    "See also contour_image.py.\n",
    "\"\"\"\n",
    "import matplotlib\n",
    "import numpy as np\n",
    "import matplotlib.cm as cm\n",
    "import matplotlib.mlab as mlab\n",
    "import matplotlib.pyplot as plt\n",
    "\n",
    "matplotlib.rcParams['xtick.direction'] = 'out'\n",
    "matplotlib.rcParams['ytick.direction'] = 'out'\n",
    "\n",
    "delta = 0.025\n",
    "x = np.arange(-3.0, 3.0, delta)\n",
    "y = np.arange(-2.0, 2.0, delta)\n",
    "X, Y = np.meshgrid(x, y)\n",
    "Z1 = mlab.bivariate_normal(X, Y, 1.0, 1.0, 0.0, 0.0)\n",
    "Z2 = mlab.bivariate_normal(X, Y, 1.5, 0.5, 1, 1)\n",
    "# difference of Gaussians\n",
    "Z = 10.0 * (Z2 - Z1)\n",
    "\n",
    "\n",
    "\n",
    "# Create a simple contour plot with labels using default colors.  The\n",
    "# inline argument to clabel will control whether the labels are draw\n",
    "# over the line segments of the contour, removing the lines beneath\n",
    "# the label\n",
    "plt.figure()\n",
    "CS = plt.contour(X, Y, Z)\n",
    "plt.clabel(CS, inline=1, fontsize=10)\n",
    "plt.title('Simplest default with labels')\n",
    "\n",
    "\n",
    "# contour labels can be placed manually by providing list of positions\n",
    "# (in data coordinate). See ginput_manual_clabel.py for interactive\n",
    "# placement.\n",
    "plt.figure()\n",
    "CS = plt.contour(X, Y, Z)\n",
    "manual_locations = [(-1, -1.4), (-0.62, -0.7), (-2, 0.5), (1.7, 1.2), (2.0, 1.4), (2.4, 1.7)]\n",
    "plt.clabel(CS, inline=1, fontsize=10, manual=manual_locations)\n",
    "plt.title('labels at selected locations')\n",
    "\n",
    "\n",
    "# You can force all the contours to be the same color.\n",
    "plt.figure()\n",
    "CS = plt.contour(X, Y, Z, 6,\n",
    "                 colors='k', # negative contours will be dashed by default\n",
    "                 )\n",
    "plt.clabel(CS, fontsize=9, inline=1)\n",
    "plt.title('Single color - negative contours dashed')\n",
    "\n",
    "# You can set negative contours to be solid instead of dashed:\n",
    "matplotlib.rcParams['contour.negative_linestyle'] = 'solid'\n",
    "plt.figure()\n",
    "CS = plt.contour(X, Y, Z, 6,\n",
    "                 colors='k', # negative contours will be dashed by default\n",
    "                 )\n",
    "plt.clabel(CS, fontsize=9, inline=1)\n",
    "plt.title('Single color - negative contours solid')\n",
    "\n",
    "\n",
    "# And you can manually specify the colors of the contour\n",
    "plt.figure()\n",
    "CS = plt.contour(X, Y, Z, 6,\n",
    "                 linewidths=np.arange(.5, 4, .5),\n",
    "                 colors=('r', 'green', 'blue', (1,1,0), '#afeeee', '0.5')\n",
    "                 )\n",
    "plt.clabel(CS, fontsize=9, inline=1)\n",
    "plt.title('Crazy lines')\n",
    "\n",
    "\n",
    "# Or you can use a colormap to specify the colors; the default\n",
    "# colormap will be used for the contour lines\n",
    "plt.figure()\n",
    "im = plt.imshow(Z, interpolation='bilinear', origin='lower',\n",
    "                cmap=cm.gray, extent=(-3,3,-2,2))\n",
    "levels = np.arange(-1.2, 1.6, 0.2)\n",
    "CS = plt.contour(Z, levels,\n",
    "                 origin='lower',\n",
    "                 linewidths=2,\n",
    "                 extent=(-3,3,-2,2))\n",
    "\n",
    "#Thicken the zero contour.\n",
    "zc = CS.collections[6]\n",
    "plt.setp(zc, linewidth=4)\n",
    "\n",
    "plt.clabel(CS, levels[1::2],  # label every second level\n",
    "           inline=1,\n",
    "           fmt='%1.1f',\n",
    "           fontsize=14)\n",
    "\n",
    "# make a colorbar for the contour lines\n",
    "CB = plt.colorbar(CS, shrink=0.8, extend='both')\n",
    "\n",
    "plt.title('Lines with colorbar')\n",
    "#plt.hot()  # Now change the colormap for the contour lines and colorbar\n",
    "plt.flag()\n",
    "\n",
    "# We can still add a colorbar for the image, too.\n",
    "CBI = plt.colorbar(im, orientation='horizontal', shrink=0.8)\n",
    "\n",
    "# This makes the original colorbar look a bit out of place,\n",
    "# so let's improve its position.\n",
    "\n",
    "l,b,w,h = plt.gca().get_position().bounds\n",
    "ll,bb,ww,hh = CB.ax.get_position().bounds\n",
    "CB.ax.set_position([ll, b+0.1*h, ww, h*0.8])\n",
    "\n",
    "\n",
    "plt.show()"
   ]
  },
  {
   "cell_type": "markdown",
   "metadata": {},
   "source": [
    "## 4. Formatting figures\n",
    "\n",
    "The formatting of figures often takes longer than actually setting them up and adding data.\n",
    "There are many different approaches to formatting figures in matplotlib (many goals can be\n",
    "accomplished in different ways, using different commands), and you will come across many\n",
    "of these as you learn more. The tips below give a few simple ways to get started."
   ]
  },
  {
   "cell_type": "markdown",
   "metadata": {},
   "source": [
    "### 4.1 Common formatting tricks\n",
    "\n",
    "There are hundreds of formatting options available in matplotlib, many of which you will end\n",
    "up using occasionally. There are a few options, however, that you will use very frequently.\n",
    "A short list of these might include:\n",
    "\n",
    "- Changing axis limits\n",
    "- Changing line colors\n",
    "- Changing lines to dashed (for black and white figures)\n",
    "- Adding markers to lines\n",
    "- Make tick labels point outward instead of inward\n",
    "- Get rid of the box surrounding the plot\n",
    "- Adding subplot letters, like (a) and (b)\n",
    "\n",
    "Here's how to accomplish all of these things."
   ]
  },
  {
   "cell_type": "code",
   "execution_count": null,
   "metadata": {
    "collapsed": false
   },
   "outputs": [],
   "source": [
    "# Make some data to plot\n",
    "x = np.linspace(0, 2*np.pi)\n",
    "y1 = np.sin(x)\n",
    "y2 = np.cos(x)\n",
    "\n",
    "# First, create an empty figure with 1 subplot\n",
    "fig, ax1 = plt.subplots(1, 1)\n",
    "\n",
    "# Add title and labels\n",
    "ax1.set_title('My Plot')\n",
    "ax1.set_xlabel('x')\n",
    "ax1.set_ylabel('y')\n",
    "\n",
    "# Change axis limits\n",
    "ax1.set_xlim([0,2])\n",
    "ax1.set_ylim([-1, 2])\n",
    "\n",
    "# Add the lines, changing their color, style, and marker\n",
    "ax1.plot(x, y1, 'k--o', label='sin') # Black line, dashed, with 'o' markers\n",
    "ax1.plot(x, y2, 'r-^', label='cos') # Red line, solid, with triangle-up markers\n",
    "\n",
    "# Adjust tick marks and get rid of 'box'\n",
    "ax1.tick_params(direction='out', top=False, right=False) # Turn ticks out\n",
    "ax1.spines['top'].set_visible(False) # Get rid of top axis line\n",
    "ax1.spines['right'].set_visible(False) #  Get rid of bottom axis line\n",
    "\n",
    "# Add subplot letter\n",
    "ax1.annotate('(a)', (0.01, 0.96), size=12, xycoords='figure fraction')\n",
    "\n",
    "# Add legend\n",
    "ax1.legend()\n",
    "\n",
    "# Finally, save the figure as a png file\n",
    "fig.savefig('myfig-formatted.png')"
   ]
  },
  {
   "cell_type": "markdown",
   "metadata": {},
   "source": [
    "### 4.2 Advanced formatting with rcParams\n",
    "\n",
    "A fast way to control many aspects of figure formatting is to temporarily modify a dictionary\n",
    "called rcParams. This dictionary allows you to set, in one place, many of the options that\n",
    "you will need to change before submitting your figures for publication, including figure\n",
    "fonts, font sizes, figure size, figure dpi, etc., as well as many options regarding how\n",
    "elements are spaced in your figures (ie, the distance between different elements of subfigures).\n",
    "\n",
    "WARNING: The rcParams dictionary is GLOBAL to matplotlib's plot library - therefore, if you\n",
    "make a change to it, all future plots that you make will also have those changes (until you\n",
    "close your Python session). If you do modify rcParams, it's good hygiene to set it back to the\n",
    "defaults after you've made your plot, as described below.\n",
    "\n",
    "A description of the rcParams options can be found at\n",
    "http://matplotlib.org/users/customizing.html\n",
    "\n",
    "Run the code below to see all of the different options you can set here. Once you've looked\n",
    "this over, hit the Toggle button on the left to hide the output again."
   ]
  },
  {
   "cell_type": "code",
   "execution_count": null,
   "metadata": {
    "collapsed": false
   },
   "outputs": [],
   "source": [
    "# View rcParams\n",
    "matplotlib.rcParams"
   ]
  },
  {
   "cell_type": "markdown",
   "metadata": {},
   "source": [
    "Now, save the default rcParams dictionary so we can 'reset' everything after we change it.\n",
    "In a 'regular' Python interpreter, or inside a Python module, you can just use\n",
    "plt.rcdefaults() to reset the defaults, instead of saving them here then resetting them\n",
    "manually later. However, this work in the notebook."
   ]
  },
  {
   "cell_type": "code",
   "execution_count": null,
   "metadata": {
    "collapsed": true
   },
   "outputs": [],
   "source": [
    "# Save default rcParams so we can reset them later\n",
    "# WARNING: Do not run this cell after changing rcParams, as it will overwrite the\n",
    "# defaults that we are trying to preserve.\n",
    "rcdef = plt.rcParams.copy()"
   ]
  },
  {
   "cell_type": "markdown",
   "metadata": {},
   "source": [
    "Now let's make a simple plot, using mostly default formatting."
   ]
  },
  {
   "cell_type": "code",
   "execution_count": null,
   "metadata": {
    "collapsed": false
   },
   "outputs": [],
   "source": [
    "# Make sure rcParams is at default settings, since we're messing with it\n",
    "plt.rcParams.update(rcdef)\n",
    "\n",
    "# Make a simple figure with default formatting\n",
    "fig, axall = plt.subplots(1, 2)  # axall is the tuple containing both axis objects\n",
    "\n",
    "for ax in axall:\n",
    "    ax.plot(np.random.rand(100), 'k-o', label='Random')\n",
    "    ax.set_ylim([0, 1.2])\n",
    "    ax.set_ylabel('Value')\n",
    "    ax.legend()"
   ]
  },
  {
   "cell_type": "markdown",
   "metadata": {},
   "source": [
    "There are many obvious formatting problems here. The legend is too big, the axis labels are\n",
    "too small, the legend shouldn't have a box (arguably), and the y-axis label on the second\n",
    "subplot is hidden behind the first subplot. Also, although you can't see it here, the figure\n",
    "resolution is too low to print without appearing fuzzy."
   ]
  },
  {
   "cell_type": "markdown",
   "metadata": {},
   "source": [
    "The code below changes a whole bunch of values in rcParams to get a figure to look juuuuust\n",
    "right. Then it makes the figures, saves it, and puts rcParams back to its default."
   ]
  },
  {
   "cell_type": "code",
   "execution_count": null,
   "metadata": {
    "collapsed": false
   },
   "outputs": [],
   "source": [
    "# Choose a bunch of new parameter values\n",
    "# In practice, you'll try modifying these, running the code and saving the figure,\n",
    "# looking at the figure, then making more modifications until you're happy.\n",
    "newparams = {'axes.labelsize': 14, 'axes.linewidth': 1, 'savefig.dpi': 300, \n",
    "             'lines.linewidth': 1.5, 'figure.figsize': (8, 3),\n",
    "             'figure.subplot.wspace': 0.4,\n",
    "             'ytick.labelsize': 12, 'xtick.labelsize': 12,\n",
    "             'ytick.major.pad': 5, 'xtick.major.pad': 5,\n",
    "             'legend.fontsize': 12, 'legend.frameon': False, \n",
    "             'legend.handlelength': 1.5}\n",
    "\n",
    "# Update the global rcParams dictionary with the new parameter choices\n",
    "# Before doing this, we reset rcParams to its default again, just in case\n",
    "plt.rcParams.update(rcdef)\n",
    "plt.rcParams.update(newparams)\n",
    "\n",
    "# Make the new figure with new formatting\n",
    "fig, axall = plt.subplots(1, 2)\n",
    "\n",
    "for ax in axall:\n",
    "    ax.plot(np.random.rand(100), 'k-o', label='Random')\n",
    "    ax.set_ylim([0, 1.2])\n",
    "    ax.set_ylabel('Value')\n",
    "    ax.legend()\n",
    "    \n",
    "fig.savefig('myfig-advanced.png')\n",
    "\n",
    "# Put rcParams back to default\n",
    "plt.rcParams.update(rcdef)"
   ]
  },
  {
   "cell_type": "markdown",
   "metadata": {},
   "source": [
    "You'll want to check that your formatting looks good by looking at the file that's being saved\n",
    "to your hard disk, since that's exactly how it will look to the publisher or when inserted\n",
    "into your manuscript."
   ]
  },
  {
   "cell_type": "code",
   "execution_count": null,
   "metadata": {
    "collapsed": false
   },
   "outputs": [],
   "source": []
  },
  {
   "cell_type": "code",
   "execution_count": null,
   "metadata": {
    "collapsed": true
   },
   "outputs": [],
   "source": []
  }
 ],
 "metadata": {
  "kernelspec": {
   "display_name": "Python 3",
   "language": "python",
   "name": "python3"
  },
  "language_info": {
   "codemirror_mode": {
    "name": "ipython",
    "version": 3
   },
   "file_extension": ".py",
   "mimetype": "text/x-python",
   "name": "python",
   "nbconvert_exporter": "python",
   "pygments_lexer": "ipython3",
   "version": "3.5.0"
  }
 },
 "nbformat": 4,
 "nbformat_minor": 0
}
