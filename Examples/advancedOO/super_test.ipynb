{
 "cells": [
  {
   "cell_type": "markdown",
   "metadata": {},
   "source": [
    "### Some example code demonstrating some super() behaviour\n"
   ]
  },
  {
   "cell_type": "code",
   "execution_count": 48,
   "metadata": {
    "collapsed": false
   },
   "outputs": [],
   "source": [
    "class A():\n",
    "    def __init__(self):\n",
    "        print(\"in A __init__\")\n",
    "        print(\"self's class is:\", self.__class__)\n",
    "        s = super().__init__()\n",
    "\n",
    "class B():\n",
    "    def __init__(self):\n",
    "        print(\"in B.__init__\")\n",
    "        s = super().__init__()\n",
    "\n",
    "class C():\n",
    "    def __init__(self):\n",
    "        print(\"in C.__init__\")\n",
    "        s = super().__init__()\n",
    "\n",
    "class D(C, B, A):\n",
    "    def __init__(self):\n",
    "        print(\"self's class is:\", self.__class__)\n",
    "        super().__init__()\n",
    "        "
   ]
  },
  {
   "cell_type": "code",
   "execution_count": 49,
   "metadata": {
    "collapsed": false
   },
   "outputs": [
    {
     "name": "stdout",
     "output_type": "stream",
     "text": [
      "D's mro: (<class '__main__.D'>, <class '__main__.C'>, <class '__main__.B'>, <class '__main__.A'>, <class 'object'>)\n",
      "self's class is: <class '__main__.D'>\n",
      "in C.__init__\n",
      "in B.__init__\n",
      "in A __init__\n",
      "self's class is: <class '__main__.D'>\n"
     ]
    }
   ],
   "source": [
    "print(\"D's mro:\", D.__mro__)\n",
    "d = D()"
   ]
  },
  {
   "cell_type": "markdown",
   "metadata": {},
   "source": [
    "## super's parameters\n",
    "\n",
    "To do its thing, super() needs to know two things:\n",
    "\n",
    "``super(type, obj)``\n",
    "\n",
    "It needs to know that type (class) that you want the super-classes of, AND it needs to know the actual object instance at the time it is called.\n",
    "\n",
    "python3 fills these in for you at run time, but in python2, you needed to specify them:\n",
    "\n",
    "```\n",
    "class A(object):\n",
    "    def __init__(self):\n",
    "        super(A, self).__init__()\n",
    "```\n",
    "\n",
    "But why do you need BOTH `A` and `self`? -- isn't `self` an instance of `A`?\n",
    "\n",
    "Not neccesarily -- if A's method is being called from a subclass, then `self` will be an instance of the subclass. `super()` requires that the object be an instance of the class (or a subclass).\n",
    "\n",
    "This distiction will come up later....\n",
    "\n",
    "Again, py3 takes care of this for you, though you CAN still spell it out."
   ]
  },
  {
   "cell_type": "code",
   "execution_count": 50,
   "metadata": {
    "collapsed": false
   },
   "outputs": [
    {
     "name": "stdout",
     "output_type": "stream",
     "text": [
      "<super: <class 'C'>, <D object>>\n"
     ]
    }
   ],
   "source": [
    "s_c = super(C, d)\n",
    "print(s_c)"
   ]
  },
  {
   "cell_type": "markdown",
   "metadata": {},
   "source": [
    "This works because `d` is a `D` object, which is a subclass of `C`."
   ]
  },
  {
   "cell_type": "code",
   "execution_count": 53,
   "metadata": {
    "collapsed": false
   },
   "outputs": [
    {
     "name": "stdout",
     "output_type": "stream",
     "text": [
      "in C.__init__\n"
     ]
    }
   ],
   "source": [
    "c = C()"
   ]
  },
  {
   "cell_type": "code",
   "execution_count": 54,
   "metadata": {
    "collapsed": false
   },
   "outputs": [
    {
     "ename": "TypeError",
     "evalue": "super(type, obj): obj must be an instance or subtype of type",
     "output_type": "error",
     "traceback": [
      "\u001b[0;31m---------------------------------------------------------------------------\u001b[0m",
      "\u001b[0;31mTypeError\u001b[0m                                 Traceback (most recent call last)",
      "\u001b[0;32m<ipython-input-54-89cc2a7e6da3>\u001b[0m in \u001b[0;36m<module>\u001b[0;34m()\u001b[0m\n\u001b[0;32m----> 1\u001b[0;31m \u001b[0msuper\u001b[0m\u001b[0;34m(\u001b[0m\u001b[0mD\u001b[0m\u001b[0;34m,\u001b[0m \u001b[0mc\u001b[0m\u001b[0;34m)\u001b[0m\u001b[0;34m\u001b[0m\u001b[0m\n\u001b[0m",
      "\u001b[0;31mTypeError\u001b[0m: super(type, obj): obj must be an instance or subtype of type"
     ]
    }
   ],
   "source": [
    "super(D, c)"
   ]
  },
  {
   "cell_type": "markdown",
   "metadata": {},
   "source": [
    "But this fails: `C` is NOT a subclass of `D`"
   ]
  },
  {
   "cell_type": "code",
   "execution_count": 55,
   "metadata": {
    "collapsed": false
   },
   "outputs": [
    {
     "name": "stdout",
     "output_type": "stream",
     "text": [
      "<super: <class 'A'>, <D object>>\n"
     ]
    }
   ],
   "source": [
    "s_a = super(A, d)\n",
    "print(s_a)"
   ]
  },
  {
   "cell_type": "code",
   "execution_count": 56,
   "metadata": {
    "collapsed": false
   },
   "outputs": [
    {
     "name": "stdout",
     "output_type": "stream",
     "text": [
      "<super: <class 'B'>, <D object>>\n"
     ]
    }
   ],
   "source": [
    "s_b = super(B, d)\n",
    "print(s_b)"
   ]
  },
  {
   "cell_type": "code",
   "execution_count": 58,
   "metadata": {
    "collapsed": false
   },
   "outputs": [
    {
     "name": "stdout",
     "output_type": "stream",
     "text": [
      "(<class '__main__.D'>, <class '__main__.C'>, <class '__main__.B'>, <class '__main__.A'>, <class 'object'>)\n"
     ]
    }
   ],
   "source": [
    "print(D.__mro__)"
   ]
  },
  {
   "cell_type": "markdown",
   "metadata": {
    "collapsed": false
   },
   "source": [
    "## Use super() everywhere."
   ]
  },
  {
   "cell_type": "code",
   "execution_count": 59,
   "metadata": {
    "collapsed": true
   },
   "outputs": [],
   "source": [
    "# without super()\n",
    "\n",
    "class A():\n",
    "    def this(self):\n",
    "        print(\"in A.this\")\n",
    "\n",
    "class B():\n",
    "    def this(self):\n",
    "        print(\"in B.this\")\n",
    "\n",
    "class C(A,B):\n",
    "    def this(self):\n",
    "        print(\"in C.this\")\n",
    "        A.this(self)\n",
    "        B.this(self)"
   ]
  },
  {
   "cell_type": "code",
   "execution_count": 60,
   "metadata": {
    "collapsed": false
   },
   "outputs": [
    {
     "name": "stdout",
     "output_type": "stream",
     "text": [
      "Running without super()\n",
      "in C.this\n",
      "in A.this\n",
      "in B.this\n"
     ]
    }
   ],
   "source": [
    "print(\"Running without super()\")\n",
    "c = C()\n",
    "c.this()"
   ]
  },
  {
   "cell_type": "markdown",
   "metadata": {},
   "source": [
    "C's `this` explicitly called both A and B's methods -- so they all get called."
   ]
  },
  {
   "cell_type": "markdown",
   "metadata": {},
   "source": [
    "### Using super in just C:"
   ]
  },
  {
   "cell_type": "code",
   "execution_count": 61,
   "metadata": {
    "collapsed": false
   },
   "outputs": [],
   "source": [
    "class A():\n",
    "    def this(self):\n",
    "        print(\"in A.this\")\n",
    "\n",
    "class B(A):\n",
    "    def this(self):\n",
    "        print(\"in B.this\")\n",
    "\n",
    "class C(B):\n",
    "    def this(self):\n",
    "        print(\"in C.this\")\n",
    "        super().this()"
   ]
  },
  {
   "cell_type": "code",
   "execution_count": 62,
   "metadata": {
    "collapsed": false
   },
   "outputs": [
    {
     "name": "stdout",
     "output_type": "stream",
     "text": [
      "(<class '__main__.C'>, <class '__main__.B'>, <class '__main__.A'>, <class 'object'>)\n",
      "in C.this\n",
      "in B.this\n"
     ]
    }
   ],
   "source": [
    "print(C.__mro__)\n",
    "c = C()\n",
    "c.this()"
   ]
  },
  {
   "cell_type": "markdown",
   "metadata": {},
   "source": [
    "**Note:**  `A.this` did NOT get called!\n",
    "\n",
    "Even though it is in in the MRO.\n",
    "\n",
    "Python stopped when it found the method in B."
   ]
  },
  {
   "cell_type": "markdown",
   "metadata": {},
   "source": [
    "### Using super everywhere:"
   ]
  },
  {
   "cell_type": "code",
   "execution_count": 64,
   "metadata": {
    "collapsed": false
   },
   "outputs": [],
   "source": [
    "class Base():\n",
    "    def this(self):\n",
    "        pass # just so there is a base that has the method\n",
    "\n",
    "class A(Base):\n",
    "    def this(self):\n",
    "        print(\"in A.this\")\n",
    "        super().this()\n",
    "\n",
    "class B(Base):\n",
    "    def this(self):\n",
    "        print(\"in B.this\")\n",
    "        super().this()\n",
    "class C(A,B):\n",
    "    def this(self):\n",
    "        print(\"in C.this\")\n",
    "        super().this()"
   ]
  },
  {
   "cell_type": "code",
   "execution_count": 65,
   "metadata": {
    "collapsed": false
   },
   "outputs": [
    {
     "name": "stdout",
     "output_type": "stream",
     "text": [
      "in C.this\n",
      "in A.this\n",
      "in B.this\n",
      "(<class '__main__.Base'>, <class 'object'>)\n"
     ]
    }
   ],
   "source": [
    "c = C()\n",
    "c.this()\n",
    "print(Base.__mro__)"
   ]
  },
  {
   "cell_type": "markdown",
   "metadata": {},
   "source": [
    "Now both A and B's methods get called -- probably what you want.\n",
    "\n",
    "But if you don't want both called -- better to just be Explicit, rather than use super():"
   ]
  },
  {
   "cell_type": "code",
   "execution_count": 66,
   "metadata": {
    "collapsed": true
   },
   "outputs": [],
   "source": [
    "class Base():\n",
    "    def this(self):\n",
    "        pass # just so there is a base that has the method\n",
    "\n",
    "class A(Base):\n",
    "    def this(self):\n",
    "        print(\"in A.this\")\n",
    "        super().this()\n",
    "\n",
    "class B(Base):\n",
    "    def this(self):\n",
    "        print(\"in B.this\")\n",
    "        super().this()\n",
    "\n",
    "class C(A,B):\n",
    "    def this(self):\n",
    "        print(\"in C.this\")\n",
    "        A.this(self)"
   ]
  },
  {
   "cell_type": "code",
   "execution_count": 67,
   "metadata": {
    "collapsed": false
   },
   "outputs": [
    {
     "name": "stdout",
     "output_type": "stream",
     "text": [
      "in C.this\n",
      "in A.this\n",
      "in B.this\n"
     ]
    }
   ],
   "source": [
    "c = C()\n",
    "c.this()"
   ]
  },
  {
   "cell_type": "markdown",
   "metadata": {},
   "source": [
    "**Whoa** -- A and B's method DID get called! -- why?"
   ]
  },
  {
   "cell_type": "code",
   "execution_count": 68,
   "metadata": {
    "collapsed": false
   },
   "outputs": [
    {
     "data": {
      "text/plain": [
       "(__main__.A, __main__.Base, object)"
      ]
     },
     "execution_count": 68,
     "metadata": {},
     "output_type": "execute_result"
    }
   ],
   "source": [
    "A.__mro__"
   ]
  },
  {
   "cell_type": "markdown",
   "metadata": {},
   "source": [
    "B is not there.\n",
    "\n",
    "But:"
   ]
  },
  {
   "cell_type": "code",
   "execution_count": 69,
   "metadata": {
    "collapsed": false
   },
   "outputs": [],
   "source": [
    "class Base():\n",
    "    def this(self):\n",
    "        pass # just so there is a base that has the method\n",
    "\n",
    "class A(Base):\n",
    "    def this(self):\n",
    "        print(\"in A.this\")\n",
    "        print(\"self's class:\", self.__class__)\n",
    "        super().this()\n",
    "\n",
    "class B(Base):\n",
    "    def this(self):\n",
    "        print(\"in B.this\")\n",
    "        super().this()\n",
    "\n",
    "class C(A,B):\n",
    "    def this(self):\n",
    "        print(\"in C.this\")\n",
    "        A.this(self)"
   ]
  },
  {
   "cell_type": "code",
   "execution_count": 70,
   "metadata": {
    "collapsed": false
   },
   "outputs": [
    {
     "name": "stdout",
     "output_type": "stream",
     "text": [
      "in C.this\n",
      "in A.this\n",
      "self's class: <class '__main__.C'>\n",
      "in B.this\n",
      "(<class '__main__.C'>, <class '__main__.A'>, <class '__main__.B'>, <class '__main__.Base'>, <class 'object'>)\n"
     ]
    }
   ],
   "source": [
    "c = C()\n",
    "c.this()\n",
    "print(C.__mro__)"
   ]
  },
  {
   "cell_type": "markdown",
   "metadata": {},
   "source": [
    "Remember, `super()` is dynamic -- what it calls is determined at run time.\n",
    "\n",
    "That's how it knows to call ``B``'s method too. Which is why we say that using `super()` is *part* of the interface of the class."
   ]
  },
  {
   "cell_type": "code",
   "execution_count": null,
   "metadata": {
    "collapsed": true
   },
   "outputs": [],
   "source": []
  }
 ],
 "metadata": {
  "kernelspec": {
   "display_name": "Python 3",
   "language": "python",
   "name": "python3"
  },
  "language_info": {
   "codemirror_mode": {
    "name": "ipython",
    "version": 3
   },
   "file_extension": ".py",
   "mimetype": "text/x-python",
   "name": "python",
   "nbconvert_exporter": "python",
   "pygments_lexer": "ipython3",
   "version": "3.5.0"
  }
 },
 "nbformat": 4,
 "nbformat_minor": 0
}
