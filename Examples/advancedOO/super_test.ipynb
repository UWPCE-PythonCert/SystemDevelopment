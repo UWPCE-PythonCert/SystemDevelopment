{
 "cells": [
  {
   "cell_type": "markdown",
   "metadata": {},
   "source": [
    "### Some example code demonstrating some super() behaviour\n"
   ]
  },
  {
   "cell_type": "code",
   "execution_count": 1,
   "metadata": {
    "collapsed": false
   },
   "outputs": [],
   "source": [
    "class A(object):\n",
    "    def __init__(self):\n",
    "        print \"in A __init__\"\n",
    "        print \"self's class is:\", self.__class__\n",
    "        s = super(A, self).__init__()\n",
    "\n",
    "class B(object):\n",
    "    def __init__(self):\n",
    "        print \"in B.__init__\"\n",
    "        s = super(B, self).__init__()\n",
    "\n",
    "class C(object):\n",
    "    def __init__(self):\n",
    "        print \"in C.__init__\"\n",
    "        s = super(C, self).__init__()\n",
    "\n",
    "class D(C, B, A):\n",
    "    def __init__(self):\n",
    "        print \"self's class is:\", self.__class__\n",
    "        super(D, self).__init__()"
   ]
  },
  {
   "cell_type": "code",
   "execution_count": 2,
   "metadata": {
    "collapsed": false
   },
   "outputs": [
    {
     "name": "stdout",
     "output_type": "stream",
     "text": [
      "D's mro: (<class '__main__.D'>, <class '__main__.C'>, <class '__main__.B'>, <class '__main__.A'>, <type 'object'>)\n",
      "self's class is: <class '__main__.D'>\n",
      "in C.__init__\n",
      "in B.__init__\n",
      "in A __init__\n",
      "self's class is: <class '__main__.D'>\n"
     ]
    }
   ],
   "source": [
    "print \"D's mro:\", D.__mro__\n",
    "d = D()"
   ]
  },
  {
   "cell_type": "code",
   "execution_count": 3,
   "metadata": {
    "collapsed": false
   },
   "outputs": [
    {
     "name": "stdout",
     "output_type": "stream",
     "text": [
      "<super: <class 'C'>, <D object>>\n"
     ]
    }
   ],
   "source": [
    "s_c = super(C, d)\n",
    "print s_c"
   ]
  },
  {
   "cell_type": "code",
   "execution_count": 4,
   "metadata": {
    "collapsed": false
   },
   "outputs": [
    {
     "name": "stdout",
     "output_type": "stream",
     "text": [
      "in C.__init__\n"
     ]
    }
   ],
   "source": [
    "c = C()"
   ]
  },
  {
   "cell_type": "code",
   "execution_count": 5,
   "metadata": {
    "collapsed": false
   },
   "outputs": [
    {
     "ename": "TypeError",
     "evalue": "super(type, obj): obj must be an instance or subtype of type",
     "output_type": "error",
     "traceback": [
      "\u001b[0;31m---------------------------------------------------------------------------\u001b[0m",
      "\u001b[0;31mTypeError\u001b[0m                                 Traceback (most recent call last)",
      "\u001b[0;32m<ipython-input-5-89cc2a7e6da3>\u001b[0m in \u001b[0;36m<module>\u001b[0;34m()\u001b[0m\n\u001b[0;32m----> 1\u001b[0;31m \u001b[0msuper\u001b[0m\u001b[0;34m(\u001b[0m\u001b[0mD\u001b[0m\u001b[0;34m,\u001b[0m \u001b[0mc\u001b[0m\u001b[0;34m)\u001b[0m\u001b[0;34m\u001b[0m\u001b[0m\n\u001b[0m",
      "\u001b[0;31mTypeError\u001b[0m: super(type, obj): obj must be an instance or subtype of type"
     ]
    }
   ],
   "source": [
    "super(D, c)"
   ]
  },
  {
   "cell_type": "code",
   "execution_count": 6,
   "metadata": {
    "collapsed": false
   },
   "outputs": [
    {
     "name": "stdout",
     "output_type": "stream",
     "text": [
      "<super: <class 'A'>, <D object>>\n"
     ]
    }
   ],
   "source": [
    "s_a = super(A, d)\n",
    "print s_a"
   ]
  },
  {
   "cell_type": "code",
   "execution_count": 7,
   "metadata": {
    "collapsed": false
   },
   "outputs": [
    {
     "name": "stdout",
     "output_type": "stream",
     "text": [
      "<super: <class 'B'>, <D object>>\n"
     ]
    }
   ],
   "source": [
    "s_b = super(B, d)\n",
    "print s_b"
   ]
  },
  {
   "cell_type": "code",
   "execution_count": 8,
   "metadata": {
    "collapsed": false
   },
   "outputs": [
    {
     "name": "stdout",
     "output_type": "stream",
     "text": [
      "(<class '__main__.D'>, <class '__main__.C'>, <class '__main__.B'>, <class '__main__.A'>, <type 'object'>)\n"
     ]
    }
   ],
   "source": [
    "print D.__mro__"
   ]
  },
  {
   "cell_type": "code",
   "execution_count": null,
   "metadata": {
    "collapsed": false
   },
   "outputs": [],
   "source": [
    "## why use super() everywhere?"
   ]
  },
  {
   "cell_type": "code",
   "execution_count": 9,
   "metadata": {
    "collapsed": true
   },
   "outputs": [],
   "source": [
    "# the \"old way\":\n",
    "\n",
    "class A(object):\n",
    "    def this(self):\n",
    "        print \"in A.this\"\n",
    "\n",
    "class B(object):\n",
    "    def this(self):\n",
    "        print \"in B.this\"\n",
    "\n",
    "class C(A,B):\n",
    "    def this(self):\n",
    "        print \"in C.this\"\n",
    "        A.this(self)\n",
    "        B.this(self)"
   ]
  },
  {
   "cell_type": "code",
   "execution_count": 10,
   "metadata": {
    "collapsed": false
   },
   "outputs": [
    {
     "name": "stdout",
     "output_type": "stream",
     "text": [
      "Running the traditional way\n",
      "in C.this\n",
      "in A.this\n",
      "in B.this\n"
     ]
    }
   ],
   "source": [
    "print \"Running the traditional way\"\n",
    "c = C()\n",
    "c.this()"
   ]
  },
  {
   "cell_type": "markdown",
   "metadata": {},
   "source": [
    "### Using super in just C:"
   ]
  },
  {
   "cell_type": "code",
   "execution_count": 23,
   "metadata": {
    "collapsed": false
   },
   "outputs": [],
   "source": [
    "class A(object):\n",
    "    def this(self):\n",
    "        print \"in A.this\"\n",
    "\n",
    "class B(A):\n",
    "    def this(self):\n",
    "        print \"in B.this\"\n",
    "\n",
    "class C(B):\n",
    "    def this(self):\n",
    "        print \"in C.this\"\n",
    "        super(C, self).this()"
   ]
  },
  {
   "cell_type": "code",
   "execution_count": 24,
   "metadata": {
    "collapsed": false
   },
   "outputs": [
    {
     "name": "stdout",
     "output_type": "stream",
     "text": [
      "(<class '__main__.C'>, <class '__main__.B'>, <class '__main__.A'>, <type 'object'>)\n",
      "in C.this\n",
      "in B.this\n"
     ]
    }
   ],
   "source": [
    "print C.__mro__\n",
    "c = C()\n",
    "c.this()"
   ]
  },
  {
   "cell_type": "markdown",
   "metadata": {},
   "source": [
    "**Note:**  `B.this` did NOT get called!\n",
    "\n",
    "Even though it is in in the MRO:"
   ]
  },
  {
   "cell_type": "code",
   "execution_count": 13,
   "metadata": {
    "collapsed": false
   },
   "outputs": [
    {
     "data": {
      "text/plain": [
       "(__main__.C, __main__.A, __main__.B, object)"
      ]
     },
     "execution_count": 13,
     "metadata": {},
     "output_type": "execute_result"
    }
   ],
   "source": [
    "C.__mro__"
   ]
  },
  {
   "cell_type": "markdown",
   "metadata": {},
   "source": [
    "### Using super everywhere:"
   ]
  },
  {
   "cell_type": "code",
   "execution_count": 26,
   "metadata": {
    "collapsed": true
   },
   "outputs": [],
   "source": [
    "class Base(object):\n",
    "    def this(self):\n",
    "        pass # just so there is a base that has the method\n",
    "\n",
    "class A(Base):\n",
    "    def this(self):\n",
    "        print \"in A.this\"\n",
    "        super(A, self).this()\n",
    "\n",
    "class B(Base):\n",
    "    def this(self):\n",
    "        print \"in B.this\"\n",
    "        super(B, self).this()\n",
    "class C(A,B):\n",
    "    def this(self):\n",
    "        print \"in C.this\"\n",
    "        super(C, self).this()"
   ]
  },
  {
   "cell_type": "code",
   "execution_count": 27,
   "metadata": {
    "collapsed": false
   },
   "outputs": [
    {
     "name": "stdout",
     "output_type": "stream",
     "text": [
      "in C.this\n",
      "in A.this\n",
      "in B.this\n",
      "(<class '__main__.Base'>, <type 'object'>)\n"
     ]
    }
   ],
   "source": [
    "c = C()\n",
    "c.this()\n",
    "print Base.__mro__"
   ]
  },
  {
   "cell_type": "markdown",
   "metadata": {},
   "source": [
    "Now both A and B's methods get called -- probably what you want.\n",
    "\n",
    "But if you don't want both called -- better to just be Explicit, rather than use super():"
   ]
  },
  {
   "cell_type": "code",
   "execution_count": 32,
   "metadata": {
    "collapsed": true
   },
   "outputs": [],
   "source": [
    "class Base(object):\n",
    "    def this(self):\n",
    "        pass # just so there is a base that has the method\n",
    "\n",
    "class A(Base):\n",
    "    def this(self):\n",
    "        print \"in A.this\"\n",
    "        super(A, self).this()\n",
    "\n",
    "class B(Base):\n",
    "    def this(self):\n",
    "        print \"in B.this\"\n",
    "        super(B, self).this()\n",
    "\n",
    "class C(A,B):\n",
    "    def this(self):\n",
    "        print \"in C.this\"\n",
    "        A.this(self)"
   ]
  },
  {
   "cell_type": "code",
   "execution_count": 30,
   "metadata": {
    "collapsed": false
   },
   "outputs": [
    {
     "name": "stdout",
     "output_type": "stream",
     "text": [
      "in C.this\n",
      "in A.this\n",
      "in B.this\n"
     ]
    }
   ],
   "source": [
    "c = C()\n",
    "c.this()"
   ]
  },
  {
   "cell_type": "markdown",
   "metadata": {},
   "source": [
    "**Whoa** -- B's method DID get called! -- why?"
   ]
  },
  {
   "cell_type": "code",
   "execution_count": 33,
   "metadata": {
    "collapsed": false
   },
   "outputs": [
    {
     "data": {
      "text/plain": [
       "(__main__.A, __main__.Base, object)"
      ]
     },
     "execution_count": 33,
     "metadata": {},
     "output_type": "execute_result"
    }
   ],
   "source": [
    "A.__mro__"
   ]
  },
  {
   "cell_type": "markdown",
   "metadata": {},
   "source": [
    "B is not there.\n",
    "\n",
    "But:"
   ]
  },
  {
   "cell_type": "code",
   "execution_count": 34,
   "metadata": {
    "collapsed": false
   },
   "outputs": [],
   "source": [
    "class Base(object):\n",
    "    def this(self):\n",
    "        pass # just so there is a base that has the method\n",
    "\n",
    "class A(Base):\n",
    "    def this(self):\n",
    "        print \"in A.this\"\n",
    "        print \"self's class:\", self.__class__\n",
    "        super(A, self).this()\n",
    "\n",
    "class B(Base):\n",
    "    def this(self):\n",
    "        print \"in B.this\"\n",
    "        super(B, self).this()\n",
    "\n",
    "class C(A,B):\n",
    "    def this(self):\n",
    "        print \"in C.this\"\n",
    "        A.this(self)"
   ]
  },
  {
   "cell_type": "code",
   "execution_count": 36,
   "metadata": {
    "collapsed": false
   },
   "outputs": [
    {
     "name": "stdout",
     "output_type": "stream",
     "text": [
      "in C.this\n",
      "in A.this\n",
      "self's class: <class '__main__.C'>\n",
      "in B.this\n",
      "(<class '__main__.C'>, <class '__main__.A'>, <class '__main__.B'>, <class '__main__.Base'>, <type 'object'>)\n"
     ]
    }
   ],
   "source": [
    "c = C()\n",
    "c.this()\n",
    "print C.__mro__"
   ]
  },
  {
   "cell_type": "markdown",
   "metadata": {},
   "source": [
    "Remember, `super()` is dynamic -- what it calls is determined at run time.\n",
    "\n",
    "That's why you need to pass `self` in to `super()`, and how it knows to call ``B``'s method too. Which is why we say that using `super()` is *part* of the interface of the class."
   ]
  },
  {
   "cell_type": "code",
   "execution_count": null,
   "metadata": {
    "collapsed": true
   },
   "outputs": [],
   "source": []
  }
 ],
 "metadata": {
  "kernelspec": {
   "display_name": "Python 2",
   "language": "python",
   "name": "python2"
  },
  "language_info": {
   "codemirror_mode": {
    "name": "ipython",
    "version": 2
   },
   "file_extension": ".py",
   "mimetype": "text/x-python",
   "name": "python",
   "nbconvert_exporter": "python",
   "pygments_lexer": "ipython2",
   "version": "2.7.9"
  }
 },
 "nbformat": 4,
 "nbformat_minor": 0
}
