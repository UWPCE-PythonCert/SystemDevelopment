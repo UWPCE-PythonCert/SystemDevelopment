{
 "metadata": {
  "name": "",
  "signature": "sha256:6f97c8dc34ce3c2a08fcd08d759ffe2ffad19a7344240d79f91b343846b119c8"
 },
 "nbformat": 3,
 "nbformat_minor": 0,
 "worksheets": [
  {
   "cells": [
    {
     "cell_type": "markdown",
     "metadata": {},
     "source": [
      "# Circular reference experiments:\n",
      "\n",
      "An example of a circular reference case: a parent-child relationship.\n"
     ]
    },
    {
     "cell_type": "code",
     "collapsed": false,
     "input": [
      "import sys"
     ],
     "language": "python",
     "metadata": {},
     "outputs": [],
     "prompt_number": 1
    },
    {
     "cell_type": "code",
     "collapsed": false,
     "input": [
      "# A child class\n",
      "# it keeps a reference to its parent.\n",
      "class MyChild(object):\n",
      "    def __init__(self, parent):\n",
      "        self.parent = parent\n",
      "\n",
      "        ## store some data so it will use appreciable memory\n",
      "        ## multiply by 1234 to reduce interning\n",
      "        self.data = [1234*i for i in range(100000)]\n"
     ],
     "language": "python",
     "metadata": {},
     "outputs": [],
     "prompt_number": 2
    },
    {
     "cell_type": "code",
     "collapsed": false,
     "input": [
      "# A parent class -- holds and creates children\n",
      "class MyParent(object):\n",
      "    def __init__(self):\n",
      "        self.children = []\n",
      "\n",
      "    def addChild(self):\n",
      "        \"\"\"\n",
      "        Create and add a child object\n",
      "        \"\"\"\n",
      "        child = MyChild(self)\n",
      "        self.children.append(child)\n",
      "        return child"
     ],
     "language": "python",
     "metadata": {},
     "outputs": [],
     "prompt_number": 3
    },
    {
     "cell_type": "code",
     "collapsed": false,
     "input": [
      "# use them:\n",
      "p = MyParent()\n",
      "c1 = p.addChild()\n",
      "c2 = p.addChild()"
     ],
     "language": "python",
     "metadata": {},
     "outputs": [],
     "prompt_number": 4
    },
    {
     "cell_type": "code",
     "collapsed": false,
     "input": [
      "print c1\n"
     ],
     "language": "python",
     "metadata": {},
     "outputs": [
      {
       "output_type": "stream",
       "stream": "stdout",
       "text": [
        "<__main__.MyChild object at 0x104363750>\n"
       ]
      }
     ],
     "prompt_number": 5
    },
    {
     "cell_type": "code",
     "collapsed": false,
     "input": [
      "print c1.parent"
     ],
     "language": "python",
     "metadata": {},
     "outputs": [
      {
       "output_type": "stream",
       "stream": "stdout",
       "text": [
        "<__main__.MyParent object at 0x1043634d0>\n"
       ]
      }
     ],
     "prompt_number": 6
    },
    {
     "cell_type": "code",
     "collapsed": false,
     "input": [
      "c2.parent is p"
     ],
     "language": "python",
     "metadata": {},
     "outputs": [
      {
       "metadata": {},
       "output_type": "pyout",
       "prompt_number": 7,
       "text": [
        "True"
       ]
      }
     ],
     "prompt_number": 7
    },
    {
     "cell_type": "code",
     "collapsed": false,
     "input": [
      "p.children[1] is c2"
     ],
     "language": "python",
     "metadata": {},
     "outputs": [
      {
       "metadata": {},
       "output_type": "pyout",
       "prompt_number": 8,
       "text": [
        "True"
       ]
      }
     ],
     "prompt_number": 8
    },
    {
     "cell_type": "markdown",
     "metadata": {},
     "source": [
      "### All the objects refer to each-other as we expect.\n",
      "\n",
      "\n",
      "### But what about the reference counts?\n"
     ]
    },
    {
     "cell_type": "code",
     "collapsed": false,
     "input": [
      "sys.getrefcount(p)"
     ],
     "language": "python",
     "metadata": {},
     "outputs": [
      {
       "metadata": {},
       "output_type": "pyout",
       "prompt_number": 9,
       "text": [
        "4"
       ]
      }
     ],
     "prompt_number": 9
    },
    {
     "cell_type": "code",
     "collapsed": false,
     "input": [
      "# Add some more children\n",
      "p.addChild()\n",
      "p.addChild()\n",
      "# then the refcount:\n",
      "sys.getrefcount(p)"
     ],
     "language": "python",
     "metadata": {},
     "outputs": [
      {
       "metadata": {},
       "output_type": "pyout",
       "prompt_number": 10,
       "text": [
        "6"
       ]
      }
     ],
     "prompt_number": 10
    },
    {
     "cell_type": "markdown",
     "metadata": {},
     "source": [
      "### What will the refcount be if we delete p?\n",
      "\n",
      "That only reduces it by 1.... still 5 left?\n",
      "\n",
      "### And what about c1 and c2?"
     ]
    },
    {
     "cell_type": "code",
     "collapsed": false,
     "input": [
      "sys.getrefcount(c1)\n",
      "sys.getrefcount(c2)"
     ],
     "language": "python",
     "metadata": {},
     "outputs": [
      {
       "metadata": {},
       "output_type": "pyout",
       "prompt_number": 11,
       "text": [
        "3"
       ]
      }
     ],
     "prompt_number": 11
    },
    {
     "cell_type": "markdown",
     "metadata": {},
     "source": [
      "So deleting them won't help either....\n",
      "\n",
      "Classic Circular reference problem -- these objects could live on forever."
     ]
    },
    {
     "cell_type": "markdown",
     "metadata": {},
     "source": [
      "### Enter Garbage Collection:"
     ]
    },
    {
     "cell_type": "code",
     "collapsed": false,
     "input": [
      "import gc\n",
      "gc.collect() # run once to clean things out..."
     ],
     "language": "python",
     "metadata": {},
     "outputs": [
      {
       "metadata": {},
       "output_type": "pyout",
       "prompt_number": 13,
       "text": [
        "0"
       ]
      }
     ],
     "prompt_number": 13
    },
    {
     "cell_type": "code",
     "collapsed": false,
     "input": [
      "gc.collect()"
     ],
     "language": "python",
     "metadata": {},
     "outputs": [
      {
       "metadata": {},
       "output_type": "pyout",
       "prompt_number": 14,
       "text": [
        "0"
       ]
      }
     ],
     "prompt_number": 14
    },
    {
     "cell_type": "markdown",
     "metadata": {},
     "source": [
      "yup -- it's clean"
     ]
    },
    {
     "cell_type": "code",
     "collapsed": false,
     "input": [
      "# delete the names:\n",
      "del p, c1, c2\n",
      "# try again:\n",
      "gc.collect()"
     ],
     "language": "python",
     "metadata": {},
     "outputs": [
      {
       "ename": "NameError",
       "evalue": "name 'p' is not defined",
       "output_type": "pyerr",
       "traceback": [
        "\u001b[0;31m---------------------------------------------------------------------------\u001b[0m\n\u001b[0;31mNameError\u001b[0m                                 Traceback (most recent call last)",
        "\u001b[0;32m<ipython-input-16-de563420243f>\u001b[0m in \u001b[0;36m<module>\u001b[0;34m()\u001b[0m\n\u001b[1;32m      1\u001b[0m \u001b[0;31m# delete the names:\u001b[0m\u001b[0;34m\u001b[0m\u001b[0;34m\u001b[0m\u001b[0m\n\u001b[0;32m----> 2\u001b[0;31m \u001b[0;32mdel\u001b[0m \u001b[0mp\u001b[0m\u001b[0;34m,\u001b[0m \u001b[0mc1\u001b[0m\u001b[0;34m,\u001b[0m \u001b[0mc2\u001b[0m\u001b[0;34m\u001b[0m\u001b[0m\n\u001b[0m\u001b[1;32m      3\u001b[0m \u001b[0;31m# try again:\u001b[0m\u001b[0;34m\u001b[0m\u001b[0;34m\u001b[0m\u001b[0m\n\u001b[1;32m      4\u001b[0m \u001b[0mgc\u001b[0m\u001b[0;34m.\u001b[0m\u001b[0mcollect\u001b[0m\u001b[0;34m(\u001b[0m\u001b[0;34m)\u001b[0m\u001b[0;34m\u001b[0m\u001b[0m\n",
        "\u001b[0;31mNameError\u001b[0m: name 'p' is not defined"
       ]
      }
     ],
     "prompt_number": 16
    },
    {
     "cell_type": "markdown",
     "metadata": {},
     "source": [
      "### But: What if objects have a ```__del__``` method?\n",
      "\n",
      "The garbage collector won't delete them (note: very common for compiled extension objects...)"
     ]
    },
    {
     "cell_type": "code",
     "collapsed": false,
     "input": [
      "class MyChild(object):\n",
      "    def __init__(self, parent):\n",
      "        self.parent = parent\n",
      "\n",
      "        ## store some data so it will use appreciable memory\n",
      "        ## multiply by 1234 to reduce interning\n",
      "        self.data = [1234*i for i in range(100000)]\n",
      "\n",
      "    #provide a deleter to defeat garbage collection..\n",
      "    def __del__(self):\n",
      "        # this way we can see when they get deleted\n",
      "        print 'MyChild deleted', id(self)\n",
      "\n",
      "class MyParent(object):\n",
      "    def __init__(self):\n",
      "        self.children = []\n",
      "    def addChild(self):\n",
      "        child = MyChild(self)\n",
      "        self.children.append(child)\n",
      "        return child\n",
      "    ## note: probably dont need a deleter on both, but just in case...\n",
      "    def __del__(self):\n",
      "        print 'MyParent deleted', id(self)"
     ],
     "language": "python",
     "metadata": {},
     "outputs": [],
     "prompt_number": 17
    },
    {
     "cell_type": "code",
     "collapsed": false,
     "input": [
      "# simple case -- no children\n",
      "p = MyParent()\n",
      "del p"
     ],
     "language": "python",
     "metadata": {},
     "outputs": [
      {
       "output_type": "stream",
       "stream": "stdout",
       "text": [
        "MyParent deleted 4365479248\n"
       ]
      }
     ],
     "prompt_number": 18
    },
    {
     "cell_type": "markdown",
     "metadata": {},
     "source": [
      "It is deleted\n"
     ]
    },
    {
     "cell_type": "code",
     "collapsed": false,
     "input": [
      "## multiple children:\n",
      "p = MyParent()\n",
      "p.addChild()\n",
      "p.addChild()\n",
      "p.addChild()"
     ],
     "language": "python",
     "metadata": {},
     "outputs": [
      {
       "metadata": {},
       "output_type": "pyout",
       "prompt_number": 19,
       "text": [
        "<__main__.MyChild at 0x104347d90>"
       ]
      }
     ],
     "prompt_number": 19
    },
    {
     "cell_type": "code",
     "collapsed": false,
     "input": [
      "sys.getrefcount(p)"
     ],
     "language": "python",
     "metadata": {},
     "outputs": [
      {
       "metadata": {},
       "output_type": "pyout",
       "prompt_number": 20,
       "text": [
        "5"
       ]
      }
     ],
     "prompt_number": 20
    },
    {
     "cell_type": "code",
     "collapsed": false,
     "input": [
      "# clear out random stuff iPython created...\n",
      "gc.collect()"
     ],
     "language": "python",
     "metadata": {},
     "outputs": [
      {
       "metadata": {},
       "output_type": "pyout",
       "prompt_number": 21,
       "text": [
        "16"
       ]
      }
     ],
     "prompt_number": 21
    },
    {
     "cell_type": "code",
     "collapsed": false,
     "input": [
      "# call again\n",
      "gc.collect()"
     ],
     "language": "python",
     "metadata": {},
     "outputs": [
      {
       "metadata": {},
       "output_type": "pyout",
       "prompt_number": 22,
       "text": [
        "0"
       ]
      }
     ],
     "prompt_number": 22
    },
    {
     "cell_type": "code",
     "collapsed": false,
     "input": [
      "# no extra garbage:\n",
      "del p\n",
      "gc.collect()"
     ],
     "language": "python",
     "metadata": {},
     "outputs": [
      {
       "metadata": {},
       "output_type": "pyout",
       "prompt_number": 23,
       "text": [
        "0"
       ]
      }
     ],
     "prompt_number": 23
    },
    {
     "cell_type": "markdown",
     "metadata": {},
     "source": [
      "Still zero -- p and its children are still around....\n",
      "\n",
      "(```memcount.py``` demo....)"
     ]
    },
    {
     "cell_type": "markdown",
     "metadata": {},
     "source": [
      "## The solution: Weak References:\n",
      "\n",
      "http://docs.python.org/2/library/weakref.html\n",
      "\n",
      "The child doesn't need to keep the parent around if it's the only reference to it.\n",
      "\n",
      "So it can use a weak reference ```proxy``` object. A ```proxy``` object acts like a regular object, but the reference count is not increased\n"
     ]
    },
    {
     "cell_type": "code",
     "collapsed": false,
     "input": [
      "import weakref\n",
      "\n",
      "class MyChild(object):\n",
      "    def __init__(self, parent):\n",
      "        self.parent = weakref.proxy(parent)\n",
      "\n",
      "        ## store some data so it will use appreciable memory\n",
      "        ## multiply by 1234 to reduce interning\n",
      "        self.data = [1234*i for i in range(100000)]\n",
      "\n",
      "    def __del__(self):\n",
      "        # this way we can see when they get deleted\n",
      "        print 'MyChild deleted', id(self)"
     ],
     "language": "python",
     "metadata": {},
     "outputs": [],
     "prompt_number": 24
    },
    {
     "cell_type": "code",
     "collapsed": false,
     "input": [
      "p = MyParent()\n",
      "sys.getrefcount(p)"
     ],
     "language": "python",
     "metadata": {},
     "outputs": [
      {
       "output_type": "stream",
       "stream": "stdout",
       "text": [
        "MyParent deleted 4373802320\n"
       ]
      },
      {
       "metadata": {},
       "output_type": "pyout",
       "prompt_number": 35,
       "text": [
        "2"
       ]
      }
     ],
     "prompt_number": 35
    },
    {
     "cell_type": "code",
     "collapsed": false,
     "input": [
      "print id(p)"
     ],
     "language": "python",
     "metadata": {},
     "outputs": [
      {
       "output_type": "stream",
       "stream": "stdout",
       "text": [
        "4373801040\n"
       ]
      }
     ],
     "prompt_number": 36
    },
    {
     "cell_type": "code",
     "collapsed": false,
     "input": [
      "# now add some children\n",
      "p.addChild()\n",
      "p.addChild()\n",
      "sys.getrefcount(p)"
     ],
     "language": "python",
     "metadata": {},
     "outputs": [
      {
       "metadata": {},
       "output_type": "pyout",
       "prompt_number": 37,
       "text": [
        "2"
       ]
      }
     ],
     "prompt_number": 37
    },
    {
     "cell_type": "markdown",
     "metadata": {},
     "source": [
      "Reference count on parent has not increased."
     ]
    },
    {
     "cell_type": "code",
     "collapsed": false,
     "input": [
      "# but you can still get at the parent from the child\n",
      "p.children[1].parent"
     ],
     "language": "python",
     "metadata": {},
     "outputs": [
      {
       "metadata": {},
       "output_type": "pyout",
       "prompt_number": 38,
       "text": [
        "<__main__.MyParent at 0x104b5b0a8>"
       ]
      }
     ],
     "prompt_number": 38
    },
    {
     "cell_type": "code",
     "collapsed": false,
     "input": [
      "del p"
     ],
     "language": "python",
     "metadata": {},
     "outputs": [
      {
       "output_type": "stream",
       "stream": "stdout",
       "text": [
        "MyParent deleted 4373801040\n",
        "MyChild deleted 4373987408\n",
        "MyChild deleted 4373988496\n"
       ]
      }
     ],
     "prompt_number": 39
    },
    {
     "cell_type": "markdown",
     "metadata": {},
     "source": [
      "\n",
      "And everything got deleted when the reference goes away."
     ]
    },
    {
     "cell_type": "code",
     "collapsed": false,
     "input": [
      "p = MyParent()\n",
      "c = p.addChild()"
     ],
     "language": "python",
     "metadata": {},
     "outputs": [],
     "prompt_number": 40
    },
    {
     "cell_type": "code",
     "collapsed": false,
     "input": [
      "c\n"
     ],
     "language": "python",
     "metadata": {},
     "outputs": [
      {
       "metadata": {},
       "output_type": "pyout",
       "prompt_number": 41,
       "text": [
        "<__main__.MyChild at 0x104b2ea10>"
       ]
      }
     ],
     "prompt_number": 41
    },
    {
     "cell_type": "code",
     "collapsed": false,
     "input": [
      "sys.getrefcount(p)\n",
      "sys.getrefcount(c)"
     ],
     "language": "python",
     "metadata": {},
     "outputs": [
      {
       "metadata": {},
       "output_type": "pyout",
       "prompt_number": 43,
       "text": [
        "9"
       ]
      }
     ],
     "prompt_number": 43
    },
    {
     "cell_type": "code",
     "collapsed": false,
     "input": [
      "del p"
     ],
     "language": "python",
     "metadata": {},
     "outputs": [
      {
       "output_type": "stream",
       "stream": "stdout",
       "text": [
        "MyParent deleted 4373802000\n"
       ]
      }
     ],
     "prompt_number": 44
    },
    {
     "cell_type": "code",
     "collapsed": false,
     "input": [
      "print c"
     ],
     "language": "python",
     "metadata": {},
     "outputs": [
      {
       "output_type": "stream",
       "stream": "stdout",
       "text": [
        "<__main__.MyChild object at 0x104b2ea10>\n"
       ]
      }
     ],
     "prompt_number": 45
    },
    {
     "cell_type": "code",
     "collapsed": false,
     "input": [
      "c.parent ## does the child have a parent???\n"
     ],
     "language": "python",
     "metadata": {},
     "outputs": [
      {
       "output_type": "stream",
       "stream": "stderr",
       "text": [
        "/Library/Frameworks/Python.framework/Versions/2.7/lib/python2.7/site-packages/IPython/core/formatters.py:239: FormatterWarning: Exception in text/html formatter: weakly-referenced object no longer exists\n",
        "  FormatterWarning,\n",
        "/Library/Frameworks/Python.framework/Versions/2.7/lib/python2.7/site-packages/IPython/core/formatters.py:239: FormatterWarning: Exception in image/jpeg formatter: weakly-referenced object no longer exists\n",
        "  FormatterWarning,\n",
        "/Library/Frameworks/Python.framework/Versions/2.7/lib/python2.7/site-packages/IPython/core/formatters.py:239: FormatterWarning: Exception in image/svg+xml formatter: weakly-referenced object no longer exists\n",
        "  FormatterWarning,\n",
        "/Library/Frameworks/Python.framework/Versions/2.7/lib/python2.7/site-packages/IPython/core/formatters.py:239: FormatterWarning: Exception in image/png formatter: weakly-referenced object no longer exists\n",
        "  FormatterWarning,\n",
        "/Library/Frameworks/Python.framework/Versions/2.7/lib/python2.7/site-packages/IPython/core/formatters.py:239: FormatterWarning: Exception in application/javascript formatter: weakly-referenced object no longer exists\n",
        "  FormatterWarning,\n",
        "/Library/Frameworks/Python.framework/Versions/2.7/lib/python2.7/site-packages/IPython/core/formatters.py:239: FormatterWarning: Exception in text/latex formatter: weakly-referenced object no longer exists\n",
        "  FormatterWarning,\n",
        "/Library/Frameworks/Python.framework/Versions/2.7/lib/python2.7/site-packages/IPython/core/formatters.py:239: FormatterWarning: Exception in application/json formatter: weakly-referenced object no longer exists\n",
        "  FormatterWarning,\n",
        "/Library/Frameworks/Python.framework/Versions/2.7/lib/python2.7/site-packages/IPython/core/formatters.py:239: FormatterWarning: Exception in application/pdf formatter: weakly-referenced object no longer exists\n",
        "  FormatterWarning,\n"
       ]
      },
      {
       "metadata": {},
       "output_type": "pyout",
       "prompt_number": 46,
       "text": [
        "<weakproxy at 0x104b5b310 to NoneType at 0x10017ff80>"
       ]
      }
     ],
     "prompt_number": 46
    },
    {
     "cell_type": "code",
     "collapsed": false,
     "input": [
      "p = c.parent"
     ],
     "language": "python",
     "metadata": {},
     "outputs": [],
     "prompt_number": 47
    },
    {
     "cell_type": "code",
     "collapsed": false,
     "input": [
      "print p"
     ],
     "language": "python",
     "metadata": {},
     "outputs": [
      {
       "ename": "ReferenceError",
       "evalue": "weakly-referenced object no longer exists",
       "output_type": "pyerr",
       "traceback": [
        "\u001b[0;31m---------------------------------------------------------------------------\u001b[0m\n\u001b[0;31mReferenceError\u001b[0m                            Traceback (most recent call last)",
        "\u001b[0;32m<ipython-input-48-1a771a3e63c6>\u001b[0m in \u001b[0;36m<module>\u001b[0;34m()\u001b[0m\n\u001b[0;32m----> 1\u001b[0;31m \u001b[0;32mprint\u001b[0m \u001b[0mp\u001b[0m\u001b[0;34m\u001b[0m\u001b[0m\n\u001b[0m",
        "\u001b[0;31mReferenceError\u001b[0m: weakly-referenced object no longer exists"
       ]
      }
     ],
     "prompt_number": 48
    },
    {
     "cell_type": "markdown",
     "metadata": {},
     "source": [
      "Nope -- but it doesn't crash, either!"
     ]
    },
    {
     "cell_type": "code",
     "collapsed": false,
     "input": [
      "p = MyParent()\n",
      "p.addChild()\n",
      "p.addChild()\n"
     ],
     "language": "python",
     "metadata": {},
     "outputs": [
      {
       "output_type": "stream",
       "stream": "stdout",
       "text": [
        "MyParent deleted 4374022736\n",
        "MyChild deleted 4374022672\n"
       ]
      },
      {
       "metadata": {},
       "output_type": "pyout",
       "prompt_number": 50,
       "text": [
        "<__main__.MyChild at 0x104b64a50>"
       ]
      }
     ],
     "prompt_number": 50
    },
    {
     "cell_type": "code",
     "collapsed": false,
     "input": [
      "p"
     ],
     "language": "python",
     "metadata": {},
     "outputs": [
      {
       "metadata": {},
       "output_type": "pyout",
       "prompt_number": 51,
       "text": [
        "<__main__.MyParent at 0x104b64ad0>"
       ]
      }
     ],
     "prompt_number": 51
    },
    {
     "cell_type": "code",
     "collapsed": false,
     "input": [
      "sys.getrefcount(p)"
     ],
     "language": "python",
     "metadata": {},
     "outputs": [
      {
       "metadata": {},
       "output_type": "pyout",
       "prompt_number": 52,
       "text": [
        "8"
       ]
      }
     ],
     "prompt_number": 52
    },
    {
     "cell_type": "code",
     "collapsed": false,
     "input": [],
     "language": "python",
     "metadata": {},
     "outputs": []
    }
   ],
   "metadata": {}
  }
 ]
}