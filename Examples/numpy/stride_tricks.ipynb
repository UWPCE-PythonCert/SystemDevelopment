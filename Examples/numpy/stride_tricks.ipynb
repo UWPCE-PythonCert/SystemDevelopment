{
 "cells": [
  {
   "cell_type": "markdown",
   "metadata": {},
   "source": [
    "Advanced Experiments with striding\n",
    "==============================\n",
    "\n",
    "A few examples of manipulating strides in numpy arrays.\n",
    "\n",
    "Numpy arrays are wrappers around a single contiguous block of data. The \"strides\" are what describes how the single block of data is interpreted as an n dimensional array.\n",
    "\n",
    "For the most part, this is all an implimentation detail, happening under the hood at the C level. But numpy lets you manipulate the strides, and this allows some really powerful tricks."
   ]
  },
  {
   "cell_type": "code",
   "execution_count": null,
   "metadata": {
    "collapsed": false
   },
   "outputs": [],
   "source": [
    "import numpy as np"
   ]
  },
  {
   "cell_type": "code",
   "execution_count": null,
   "metadata": {
    "collapsed": false
   },
   "outputs": [],
   "source": [
    "# A basic 2d array:\n",
    "a = np.zeros((3,4))\n",
    "a"
   ]
  },
  {
   "cell_type": "code",
   "execution_count": null,
   "metadata": {
    "collapsed": false
   },
   "outputs": [],
   "source": [
    "#flatten it:\n",
    "a.flatten()"
   ]
  },
  {
   "cell_type": "code",
   "execution_count": null,
   "metadata": {
    "collapsed": false
   },
   "outputs": [],
   "source": [
    "# a basic 1d array\n",
    "a"
   ]
  },
  {
   "cell_type": "code",
   "execution_count": null,
   "metadata": {
    "collapsed": false
   },
   "outputs": [],
   "source": [
    "# the strides:\n",
    "a.strides"
   ]
  },
  {
   "cell_type": "markdown",
   "metadata": {},
   "source": [
    "This means that you need to skip 8 bytes to get from one element to the next (a double is 8 bytes per value)"
   ]
  },
  {
   "cell_type": "code",
   "execution_count": null,
   "metadata": {
    "collapsed": false
   },
   "outputs": [],
   "source": [
    "a.itemsize"
   ]
  },
  {
   "cell_type": "code",
   "execution_count": null,
   "metadata": {
    "collapsed": false
   },
   "outputs": [],
   "source": [
    "# reshape the array\n",
    "a.shape = (2,6)\n",
    "a"
   ]
  },
  {
   "cell_type": "code",
   "execution_count": null,
   "metadata": {
    "collapsed": false
   },
   "outputs": [],
   "source": [
    "# now look at the strides\n",
    "a.strides"
   ]
  },
  {
   "cell_type": "markdown",
   "metadata": {},
   "source": [
    "Same bytes in the data block, but the strides define how it is to be interpreted.\n",
    "\n",
    "You need to skip 48 bytes to get from the beginning of one row to the beginning of the next row (8 bytes per value, times 6 values per row)\n",
    "\n",
    "And still 8 bytes from one element to the next in one row."
   ]
  },
  {
   "cell_type": "code",
   "execution_count": null,
   "metadata": {
    "collapsed": false
   },
   "outputs": [],
   "source": [
    "# now a different data type\n",
    "a = np.arange(12, dtype=np.uint8)"
   ]
  },
  {
   "cell_type": "code",
   "execution_count": null,
   "metadata": {
    "collapsed": false
   },
   "outputs": [],
   "source": [
    "a.strides"
   ]
  },
  {
   "cell_type": "markdown",
   "metadata": {},
   "source": [
    "only one byte per element"
   ]
  },
  {
   "cell_type": "code",
   "execution_count": null,
   "metadata": {
    "collapsed": false
   },
   "outputs": [],
   "source": [
    "# reshape again\n",
    "a.shape = (3,4)\n",
    "a"
   ]
  },
  {
   "cell_type": "code",
   "execution_count": null,
   "metadata": {
    "collapsed": false
   },
   "outputs": [],
   "source": [
    "a.strides"
   ]
  },
  {
   "cell_type": "markdown",
   "metadata": {},
   "source": [
    "So 4 bytes to get from one row to the next, and one from one element to the next."
   ]
  },
  {
   "cell_type": "code",
   "execution_count": null,
   "metadata": {
    "collapsed": false
   },
   "outputs": [],
   "source": [
    "# make it 3-d\n",
    "a.shape = (2,3,2)\n",
    "a"
   ]
  },
  {
   "cell_type": "code",
   "execution_count": null,
   "metadata": {
    "collapsed": false
   },
   "outputs": [],
   "source": [
    "a.strides"
   ]
  },
  {
   "cell_type": "markdown",
   "metadata": {},
   "source": [
    "so six bytes to get form one \"slab\" to the next, 2 to get from one row to next in that slab, and still 1 to get from item to item."
   ]
  },
  {
   "cell_type": "markdown",
   "metadata": {},
   "source": [
    "The fancy stuff\n",
    "================\n",
    "\n",
    "The ``stride_tricks`` module provides utilities to manipulate the strides of numpy arrays to do tricky things."
   ]
  },
  {
   "cell_type": "code",
   "execution_count": null,
   "metadata": {
    "collapsed": false
   },
   "outputs": [],
   "source": [
    "a = np.arange(10, dtype=np.uint8)\n",
    "a.shape = (2,5)\n",
    "a"
   ]
  },
  {
   "cell_type": "code",
   "execution_count": null,
   "metadata": {
    "collapsed": false
   },
   "outputs": [],
   "source": [
    "a2 = np.lib.stride_tricks.as_strided(a, (8, 3), (1,1) )\n",
    "a2"
   ]
  },
  {
   "cell_type": "markdown",
   "metadata": {},
   "source": [
    "huh?\n",
    "\n",
    "``as_strided(a, (8, 3), (1,1) )``\n",
    "\n",
    "means: take the data in array, ``a``, and make a new array of shape (8,3) with strides (1,1).\n",
    "\n",
    "So the array is 8 x 3 == 24 elements in size, but the underlying data has only 10 elements in it. This works because the strides are set to (1,1), so to find the first element of the nth row, you go n*1 bytes from the beginning:\n",
    "\n",
    " * the zeroth row starts at byte 0\n",
    " * the first row starts ar byte 1\n",
    " * etc..\n",
    "\n",
    "Then to get the elements in each row you go one byte more:\n",
    "\n",
    " * the zeroth element in the zeroth row is at byte 0.\n",
    " * the first element in the zeroth row is at byte 1\n",
    " * the second element in the zeroth row is at byte 2\n",
    " \n",
    " * the zeroth element in the first row is at byte 1\n",
    " * the first element in the first row is at byte 2\n",
    " * the second element in the first row is at byte 3\n",
    "\n",
    "So that's how we get a bigger array than the number of elements -- elements are re-used in multiple parts of the array.\n"
   ]
  },
  {
   "cell_type": "code",
   "execution_count": null,
   "metadata": {
    "collapsed": false
   },
   "outputs": [],
   "source": [
    "a2.strides"
   ]
  },
  {
   "cell_type": "code",
   "execution_count": null,
   "metadata": {
    "collapsed": false
   },
   "outputs": [],
   "source": [
    "a.shape, a.size"
   ]
  },
  {
   "cell_type": "code",
   "execution_count": null,
   "metadata": {
    "collapsed": false
   },
   "outputs": [],
   "source": [
    "a2.shape, a2.size"
   ]
  },
  {
   "cell_type": "markdown",
   "metadata": {},
   "source": [
    "a and a2 share the same data, so if we change a, a2 changes also:"
   ]
  },
  {
   "cell_type": "code",
   "execution_count": null,
   "metadata": {
    "collapsed": false
   },
   "outputs": [],
   "source": [
    "a[0,2] = 6\n",
    "a"
   ]
  },
  {
   "cell_type": "code",
   "execution_count": null,
   "metadata": {
    "collapsed": false
   },
   "outputs": [],
   "source": [
    "a2"
   ]
  },
  {
   "cell_type": "markdown",
   "metadata": {},
   "source": [
    "Note how the 6 is reused in the first three rows...\n",
    "\n",
    "Why do this weird stuff?\n",
    "----------------------------\n",
    "\n",
    "It lets you do tricks where you want to re-use the same values without actually needing to copy them. For instance, a moving average."
   ]
  },
  {
   "cell_type": "code",
   "execution_count": null,
   "metadata": {
    "collapsed": false
   },
   "outputs": [],
   "source": [
    "a.mean(axis=0)"
   ]
  },
  {
   "cell_type": "markdown",
   "metadata": {},
   "source": [
    "``filter_example.py`` has a couple simple filters, using stride tricks to impliment them."
   ]
  },
  {
   "cell_type": "code",
   "execution_count": null,
   "metadata": {
    "collapsed": false
   },
   "outputs": [],
   "source": [
    "import filter_example"
   ]
  },
  {
   "cell_type": "code",
   "execution_count": null,
   "metadata": {
    "collapsed": false
   },
   "outputs": [],
   "source": [
    "# create some data\n",
    "a = np.arange(25)\n",
    "np.random.shuffle(a)\n",
    "a"
   ]
  },
  {
   "cell_type": "code",
   "execution_count": null,
   "metadata": {
    "collapsed": false
   },
   "outputs": [],
   "source": [
    "filter_example.moving_average(a, 3)"
   ]
  },
  {
   "cell_type": "code",
   "execution_count": null,
   "metadata": {
    "collapsed": false
   },
   "outputs": [],
   "source": [
    "filter_example.scaled_by_max(a,4)"
   ]
  },
  {
   "cell_type": "code",
   "execution_count": null,
   "metadata": {
    "collapsed": false
   },
   "outputs": [],
   "source": []
  }
 ],
 "metadata": {
  "kernelspec": {
   "display_name": "Python 3",
   "language": "python",
   "name": "python3"
  },
  "language_info": {
   "codemirror_mode": {
    "name": "ipython",
    "version": 3
   },
   "file_extension": ".py",
   "mimetype": "text/x-python",
   "name": "python",
   "nbconvert_exporter": "python",
   "pygments_lexer": "ipython3",
   "version": "3.5.0"
  }
 },
 "nbformat": 4,
 "nbformat_minor": 0
}
