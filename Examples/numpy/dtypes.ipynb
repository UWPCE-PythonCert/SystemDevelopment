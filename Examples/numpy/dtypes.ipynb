{
 "cells": [
  {
   "cell_type": "markdown",
   "metadata": {},
   "source": [
    "numpy custom data types\n",
    "------------------------"
   ]
  },
  {
   "cell_type": "code",
   "execution_count": 5,
   "metadata": {
    "collapsed": false
   },
   "outputs": [],
   "source": [
    "# data types\n",
    "import numpy as np\n",
    "from start import print_info"
   ]
  },
  {
   "cell_type": "code",
   "execution_count": 6,
   "metadata": {
    "collapsed": false
   },
   "outputs": [],
   "source": [
    "# a custom dtype:\n",
    "dt = np.dtype([('first_name', np.str_, 16),\n",
    "               ('last_name',  np.str_, 24),\n",
    "               ('grades',     np.float64, (2,)),\n",
    "               ])"
   ]
  },
  {
   "cell_type": "code",
   "execution_count": 7,
   "metadata": {
    "collapsed": false
   },
   "outputs": [],
   "source": [
    "# create an array of this type:\n",
    "a = np.empty((3,), dtype=dt)"
   ]
  },
  {
   "cell_type": "code",
   "execution_count": 8,
   "metadata": {
    "collapsed": false
   },
   "outputs": [
    {
     "name": "stdout",
     "output_type": "stream",
     "text": [
      "arr :\n",
      "[('Fred', 'Jones', [92.3, 86.2]) ('Bob', 'Smith', [85.1, 88.4])\n",
      " ('George', 'Roberts', [76.3, 91.5])]\n",
      "arr.shape: (3,)\n",
      "arr.dtype: [('first_name', 'S16'), ('last_name', 'S24'), ('grades', '<f8', (2,))]\n",
      "arr.itemsize 56\n",
      "arr.ndim: 1\n",
      "arr.strides (56,)\n",
      "arr.flags:\n",
      "  C_CONTIGUOUS : True\n",
      "  F_CONTIGUOUS : True\n",
      "  OWNDATA : True\n",
      "  WRITEABLE : True\n",
      "  ALIGNED : True\n",
      "  UPDATEIFCOPY : False\n"
     ]
    }
   ],
   "source": [
    "#Fill it up:\n",
    " \n",
    "a[0] = ('Fred', 'Jones', (92.3, 86.2))    \n",
    "a[1] = ('Bob', 'Smith', (85.1, 88.4))    \n",
    "a[2] = ('George', 'Roberts', (76.3, 91.5))    \n",
    "\n",
    "print_info(a)"
   ]
  },
  {
   "cell_type": "code",
   "execution_count": 9,
   "metadata": {
    "collapsed": false
   },
   "outputs": [
    {
     "name": "stdout",
     "output_type": "stream",
     "text": [
      "['Fred' 'Bob' 'George']\n"
     ]
    }
   ],
   "source": [
    "# extract a field:\n",
    "\n",
    "print a['first_name']"
   ]
  },
  {
   "cell_type": "code",
   "execution_count": 10,
   "metadata": {
    "collapsed": false
   },
   "outputs": [
    {
     "name": "stdout",
     "output_type": "stream",
     "text": [
      "[[ 92.3  86.2]\n",
      " [ 85.1  88.4]\n",
      " [ 76.3  91.5]]\n"
     ]
    }
   ],
   "source": [
    "# do some math on a field:\n",
    "\n",
    "grades = a['grades']\n",
    "print grades"
   ]
  },
  {
   "cell_type": "code",
   "execution_count": 11,
   "metadata": {
    "collapsed": false
   },
   "outputs": [
    {
     "name": "stdout",
     "output_type": "stream",
     "text": [
      "86.6333333333\n"
     ]
    }
   ],
   "source": [
    "# do some math:\n",
    "print grades.mean()"
   ]
  },
  {
   "cell_type": "code",
   "execution_count": 12,
   "metadata": {
    "collapsed": false
   },
   "outputs": [
    {
     "name": "stdout",
     "output_type": "stream",
     "text": [
      "arr :\n",
      "[[ 92.3  86.2]\n",
      " [ 85.1  88.4]\n",
      " [ 76.3  91.5]]\n",
      "arr.shape: (3, 2)\n",
      "arr.dtype: float64\n",
      "arr.itemsize 8\n",
      "arr.ndim: 2\n",
      "arr.strides (56, 8)\n",
      "arr.flags:\n",
      "  C_CONTIGUOUS : False\n",
      "  F_CONTIGUOUS : False\n",
      "  OWNDATA : False\n",
      "  WRITEABLE : True\n",
      "  ALIGNED : True\n",
      "  UPDATEIFCOPY : False\n"
     ]
    }
   ],
   "source": [
    "# still a view on the data\n",
    "\n",
    "print_info(grades) # note the strides!"
   ]
  },
  {
   "cell_type": "code",
   "execution_count": null,
   "metadata": {
    "collapsed": false
   },
   "outputs": [],
   "source": []
  }
 ],
 "metadata": {
  "kernelspec": {
   "display_name": "Python 2",
   "language": "python",
   "name": "python2"
  },
  "language_info": {
   "codemirror_mode": {
    "name": "ipython",
    "version": 2
   },
   "file_extension": ".py",
   "mimetype": "text/x-python",
   "name": "python",
   "nbconvert_exporter": "python",
   "pygments_lexer": "ipython2",
   "version": "2.7.9"
  }
 },
 "nbformat": 4,
 "nbformat_minor": 0
}
